{
 "cells": [
  {
   "cell_type": "code",
   "execution_count": 5,
   "metadata": {},
   "outputs": [],
   "source": [
    "with open('ndi.xyz','r') as f:\n",
    "    lines = f.readlines()"
   ]
  },
  {
   "cell_type": "code",
   "execution_count": 6,
   "metadata": {},
   "outputs": [],
   "source": [
    "newxyz = []\n",
    "atoms_number = int(lines[0].strip())\n",
    "with open('outndi.xyz', 'w') as fp:\n",
    "        newxyz.append(lines[0])\n",
    "        newxyz.append(lines[1])\n",
    "        # Iterate over each line in the input file\n",
    "        for i in range (2,atoms_number+2):\n",
    "            # Split the line into individual values (assuming they are separated by spaces)\n",
    "            values = lines[i].split()\n",
    "            # Extract values based on their positions in the format string\n",
    "            #value1 = 'ATOM'\n",
    "            #value_atom_number = int(i+1) #atom_number\n",
    "            value_label = values[0] #atom_label\n",
    "            #value_resname = values[1] #residue_name\n",
    "            #value_resnumber = int(values[2]) #residue number\n",
    "            value_x = float(values[1])-75 #x      \n",
    "            value_y = float(values[2])-10 #y\n",
    "            value_z = float(values[3])-90 #z\n",
    "            #value11 = values[6] #note\n",
    "            # Format the values using the specified format string\n",
    "            formatted_line = \"%-5s%8.3f%8.3f%8.3f\" % (\n",
    "                        value_label, value_x, value_y, value_z\n",
    "            )        \n",
    "            newxyz.append(formatted_line+'\\n')        \n",
    "\n",
    "        fp.writelines(newxyz)"
   ]
  }
 ],
 "metadata": {
  "kernelspec": {
   "display_name": "vlx",
   "language": "python",
   "name": "python3"
  },
  "language_info": {
   "codemirror_mode": {
    "name": "ipython",
    "version": 3
   },
   "file_extension": ".py",
   "mimetype": "text/x-python",
   "name": "python",
   "nbconvert_exporter": "python",
   "pygments_lexer": "ipython3",
   "version": "3.11.8"
  }
 },
 "nbformat": 4,
 "nbformat_minor": 2
}
