{
 "cells": [
  {
   "cell_type": "code",
   "execution_count": null,
   "metadata": {},
   "outputs": [],
   "source": [
    "from MOF_builder.ditopic import MOF_ditopic\n",
    "from frag_recognizer import process_linker_molecule\n",
    "import numpy as np\n",
    "import veloxchem as vlx\n",
    "\n",
    "template = 'fcu.cif' #UIO6x #lib file \n",
    "node_connection= 12   #lib file \n",
    "linker_topic = 2\n",
    "linker_file = 'diC2ph.xyz'\n",
    "molecule = vlx.Molecule.read_xyz_file('diph.xyz')\n",
    "\n",
    "\n",
    "#######################################################################\n",
    "! rm nodes/.DS_Store\n",
    "! rm edges/.DS_Store\n",
    "! rm edges/*.cif\n",
    "process_linker_molecule(molecule,linker_topic)\n",
    "templates_dir = '../data/template_database' #default \n",
    "nodes_dir = 'nodes' #default \n",
    "edges_dir = 'edges' #default \n",
    "if linker_topic == 2:\n",
    "    new_mof = MOF_ditopic(templates_dir,nodes_dir,edges_dir,template,node_connection)\n",
    "    new_mof.load(False)"
   ]
  },
  {
   "cell_type": "code",
   "execution_count": null,
   "metadata": {},
   "outputs": [],
   "source": [
    "supercell= np.asarray([0,0,0])\n",
    "new_mof.basic_supercell(supercell,term_file = '../data/methyl.pdb')\n",
    "new_mof.write_basic_supercell('21.gro','22.xyz')\n",
    "new_mof.defect_missing()\n",
    "new_mof.term_defective_model(n_term_file = '../data/methyl.pdb',e_termfile = '../data/CCO2H2.pdb')\n",
    "new_mof.write_tntemof('23.gro')"
   ]
  },
  {
   "cell_type": "code",
   "execution_count": null,
   "metadata": {},
   "outputs": [],
   "source": [
    "#scalar parameter to adjust boundary \n",
    "new_mof.basic_supercell(supercell,scalar=0,boundary_scalar=-0,term_file = '../data/methyl.pdb')\n",
    "new_mof.write_basic_supercell('24.gro','25.xyz')"
   ]
  },
  {
   "cell_type": "code",
   "execution_count": null,
   "metadata": {},
   "outputs": [],
   "source": [
    "new_mof.unsaturated_main_frag_edges#,new_mof.unsaturated_main_frag_nodes"
   ]
  },
  {
   "cell_type": "code",
   "execution_count": null,
   "metadata": {},
   "outputs": [],
   "source": [
    "new_mof.defect_missing([],[1,4,5,6,9,12,13,14,15,17,18,20,21,22,23]) #1,4,5,6,9,12,13,14,15,17,18,20,21,22,23\n",
    "new_mof.term_defective_model(n_term_file = '../data/methyl.pdb',e_termfile = '../data/CCO2H2.pdb')\n",
    "new_mof.write_tntemof('26.gro')"
   ]
  },
  {
   "cell_type": "code",
   "execution_count": null,
   "metadata": {},
   "outputs": [],
   "source": [
    "#sub\n",
    "sub_file = 'Di_SUB.pdb'\n",
    "sub_class = 'EDGE'\n",
    "candidate_res_idx_list = [2,3,7,8]\n",
    "sub_res_newname = 'SUB'\n",
    "new_mof.defect_replace_linker(sub_file,sub_class,candidate_res_idx_list)\n",
    "new_mof.write_view_replaced('35.gro')"
   ]
  }
 ],
 "metadata": {
  "kernelspec": {
   "display_name": "vlx",
   "language": "python",
   "name": "python3"
  },
  "language_info": {
   "codemirror_mode": {
    "name": "ipython",
    "version": 3
   },
   "file_extension": ".py",
   "mimetype": "text/x-python",
   "name": "python",
   "nbconvert_exporter": "python",
   "pygments_lexer": "ipython3",
   "version": "3.11.8"
  }
 },
 "nbformat": 4,
 "nbformat_minor": 2
}
